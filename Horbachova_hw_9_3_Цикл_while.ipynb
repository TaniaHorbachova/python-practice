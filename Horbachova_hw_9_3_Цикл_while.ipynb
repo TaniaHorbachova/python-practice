{
 "cells": [
  {
   "cell_type": "markdown",
   "metadata": {
    "id": "15XCoYr0awZ6"
   },
   "source": [
    "# Домашнє завдання до теми \"Цикл while\""
   ]
  },
  {
   "cell_type": "markdown",
   "metadata": {
    "id": "xgCDxF5YhQSa"
   },
   "source": [
    "1. **Лічильник до заданого числа.**\n",
    "   Завдання:\n",
    "     - Створіть цикл `while`, щоб він лічив від 1 до заданого числа в змінній `limit` (включно).\n",
    "     - Виведіть кожне число, яке проходить лічильник, на екран.\n",
    "     - В кінці виведіть повідомлення \"Кінець розрахунку!\".\n"
   ]
  },
  {
   "cell_type": "code",
   "execution_count": 1,
   "metadata": {
    "execution": {
     "iopub.execute_input": "2025-10-30T10:49:51.256769Z",
     "iopub.status.busy": "2025-10-30T10:49:51.256228Z",
     "iopub.status.idle": "2025-10-30T10:49:51.263545Z",
     "shell.execute_reply": "2025-10-30T10:49:51.261955Z",
     "shell.execute_reply.started": "2025-10-30T10:49:51.256733Z"
    },
    "id": "wwSqYFCmiJTt"
   },
   "outputs": [],
   "source": [
    "limit = 9  # Задане число"
   ]
  },
  {
   "cell_type": "code",
   "execution_count": 4,
   "metadata": {
    "execution": {
     "iopub.execute_input": "2025-10-30T10:50:10.666601Z",
     "iopub.status.busy": "2025-10-30T10:50:10.666303Z",
     "iopub.status.idle": "2025-10-30T10:50:10.674199Z",
     "shell.execute_reply": "2025-10-30T10:50:10.672711Z",
     "shell.execute_reply.started": "2025-10-30T10:50:10.666581Z"
    },
    "id": "-t-kC6mJqNVx"
   },
   "outputs": [
    {
     "name": "stdout",
     "output_type": "stream",
     "text": [
      "1\n",
      "2\n",
      "3\n",
      "4\n",
      "5\n",
      "6\n",
      "7\n",
      "8\n",
      "9\n",
      "Кінець розрахунку!\n"
     ]
    }
   ],
   "source": [
    "l = 1\n",
    "while  l <= limit:\n",
    "    print(l)\n",
    "    l += 1\n",
    "print(f\"Кінець розрахунку!\")"
   ]
  },
  {
   "cell_type": "markdown",
   "metadata": {
    "id": "DlqunQnphZ9s"
   },
   "source": [
    "2. **Пошук першого парного числа.** Завдання:\n",
    "     - Створіть цикл `while`, щоб знайти перше парне число після заданого числа `start`.\n",
    "     - Знайдіть та виведіть перше парне число.\n"
   ]
  },
  {
   "cell_type": "code",
   "execution_count": 6,
   "metadata": {
    "execution": {
     "iopub.execute_input": "2025-10-30T10:52:29.278389Z",
     "iopub.status.busy": "2025-10-30T10:52:29.277853Z",
     "iopub.status.idle": "2025-10-30T10:52:29.282820Z",
     "shell.execute_reply": "2025-10-30T10:52:29.281836Z",
     "shell.execute_reply.started": "2025-10-30T10:52:29.278354Z"
    },
    "id": "3CC3-gNJiW6X"
   },
   "outputs": [],
   "source": [
    "start = 7  # Задане число"
   ]
  },
  {
   "cell_type": "code",
   "execution_count": 9,
   "metadata": {
    "execution": {
     "iopub.execute_input": "2025-10-30T10:58:11.457487Z",
     "iopub.status.busy": "2025-10-30T10:58:11.456914Z",
     "iopub.status.idle": "2025-10-30T10:58:11.466019Z",
     "shell.execute_reply": "2025-10-30T10:58:11.464627Z",
     "shell.execute_reply.started": "2025-10-30T10:58:11.457448Z"
    },
    "id": "5M8Ly9_Lj4-t"
   },
   "outputs": [
    {
     "name": "stdout",
     "output_type": "stream",
     "text": [
      "8\n"
     ]
    }
   ],
   "source": [
    "number = start+1\n",
    "while True:\n",
    "    if number % 2 == 0:\n",
    "        print(number)\n",
    "        break\n",
    "    number += 1"
   ]
  },
  {
   "cell_type": "markdown",
   "metadata": {
    "id": "OlhKezZYiQJ2"
   },
   "source": [
    "\n",
    "3. **Обчислення факторіалу.**   \n",
    "  Факторіал числа - це добуток всіх натуральних чисел від 1 до цього числа включно. Наприклад, факторіал числа 5 (позначається як 5!) дорівнює `1 * 2 * 3 * 4 * 5 = 120`.\n",
    "\n",
    "  Завдання:  \n",
    "      - Обчисліть факторіал заданого числа, використовуючи цикл `while`.  \n",
    "      - Задайте деяке число для обчислення факторіалу у змінній `num`.  \n",
    "      - Виведіть обчислений факторіал на екран.  \n"
   ]
  },
  {
   "cell_type": "code",
   "execution_count": 13,
   "metadata": {
    "execution": {
     "iopub.execute_input": "2025-10-30T11:11:49.143124Z",
     "iopub.status.busy": "2025-10-30T11:11:49.142559Z",
     "iopub.status.idle": "2025-10-30T11:11:49.151173Z",
     "shell.execute_reply": "2025-10-30T11:11:49.149632Z",
     "shell.execute_reply.started": "2025-10-30T11:11:49.143087Z"
    },
    "id": "s0JKm0Wtj5s9"
   },
   "outputs": [
    {
     "name": "stdout",
     "output_type": "stream",
     "text": [
      "40320\n"
     ]
    }
   ],
   "source": [
    "num = 8\n",
    "factorial = 1\n",
    "i = 1\n",
    "\n",
    "while i <= num:\n",
    "    factorial *= i\n",
    "    i += 1\n",
    "print(factorial)"
   ]
  }
 ],
 "metadata": {
  "colab": {
   "provenance": []
  },
  "kernelspec": {
   "display_name": "Python [conda env:base] *",
   "language": "python",
   "name": "conda-base-py"
  },
  "language_info": {
   "codemirror_mode": {
    "name": "ipython",
    "version": 3
   },
   "file_extension": ".py",
   "mimetype": "text/x-python",
   "name": "python",
   "nbconvert_exporter": "python",
   "pygments_lexer": "ipython3",
   "version": "3.13.5"
  }
 },
 "nbformat": 4,
 "nbformat_minor": 4
}
