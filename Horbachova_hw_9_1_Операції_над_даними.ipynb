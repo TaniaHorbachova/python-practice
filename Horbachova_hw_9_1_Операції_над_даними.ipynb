{
 "cells": [
  {
   "cell_type": "markdown",
   "metadata": {
    "id": "9ngpqNFm8w1a"
   },
   "source": [
    "# Домашнє завдання до теми \"Основи роботи з рядками та математичні операції\""
   ]
  },
  {
   "cell_type": "markdown",
   "metadata": {
    "id": "DEkQSeSyTum-"
   },
   "source": [
    "1. Створіть змінні `a`, `b`, `c` та `d`, задайте їм значення відповідно 101, 210, 111, 402, та обчисліть з допомогою Python наступний вираз:  $$ \\frac{(a+b) * c}{d} $$\n",
    "\n",
    "**Важливо**: тут ми маємо обчислити значення саме з використанням змінних, а не просто чисел, як би ми робили у калькуляторі. Змінні потрібні аби за бажання ми могли змінити їх значення та не переписувати код обчислення виразу, бо він буде працювати для різних значень змінних."
   ]
  },
  {
   "cell_type": "code",
   "execution_count": 1,
   "metadata": {
    "execution": {
     "iopub.execute_input": "2025-10-20T16:55:00.813778Z",
     "iopub.status.busy": "2025-10-20T16:55:00.813490Z",
     "iopub.status.idle": "2025-10-20T16:55:00.831243Z",
     "shell.execute_reply": "2025-10-20T16:55:00.828240Z",
     "shell.execute_reply.started": "2025-10-20T16:55:00.813757Z"
    },
    "id": "u1ICQq5L3eKH"
   },
   "outputs": [
    {
     "data": {
      "text/plain": [
       "85.8731343283582"
      ]
     },
     "execution_count": 1,
     "metadata": {},
     "output_type": "execute_result"
    }
   ],
   "source": [
    "a = 101\n",
    "b = 210\n",
    "c = 111\n",
    "d = 402\n",
    "(a + b)*c / d"
   ]
  },
  {
   "cell_type": "markdown",
   "metadata": {
    "id": "FnBVPt7G3bcR"
   },
   "source": [
    "Очікувана відповідь: 85.8731343283582"
   ]
  },
  {
   "cell_type": "markdown",
   "metadata": {
    "id": "HI3eEYZRT4Cn"
   },
   "source": [
    "2. Якою буде остача від ділення числа 11283 на 89? Обчисліть з допомогою Python."
   ]
  },
  {
   "cell_type": "code",
   "execution_count": 2,
   "metadata": {
    "execution": {
     "iopub.execute_input": "2025-10-20T16:55:13.213602Z",
     "iopub.status.busy": "2025-10-20T16:55:13.213289Z",
     "iopub.status.idle": "2025-10-20T16:55:13.224431Z",
     "shell.execute_reply": "2025-10-20T16:55:13.223666Z",
     "shell.execute_reply.started": "2025-10-20T16:55:13.213586Z"
    },
    "id": "ejZc3ng_TpgY"
   },
   "outputs": [
    {
     "name": "stdout",
     "output_type": "stream",
     "text": [
      "69\n"
     ]
    }
   ],
   "source": [
    "r = 11283 % 89\n",
    "print (r)"
   ]
  },
  {
   "cell_type": "markdown",
   "metadata": {
    "id": "RO02CqdqT9oG"
   },
   "source": [
    "3. Скільки цілих разів поміститься число 89 в 11283? (Або що те саме: який буде результат цілочисельного ділення 11283 на 89?)"
   ]
  },
  {
   "cell_type": "code",
   "execution_count": 3,
   "metadata": {
    "execution": {
     "iopub.execute_input": "2025-10-20T16:55:32.467025Z",
     "iopub.status.busy": "2025-10-20T16:55:32.466493Z",
     "iopub.status.idle": "2025-10-20T16:55:32.477017Z",
     "shell.execute_reply": "2025-10-20T16:55:32.475552Z",
     "shell.execute_reply.started": "2025-10-20T16:55:32.466989Z"
    },
    "id": "KEUb9lO5T_PI"
   },
   "outputs": [
    {
     "data": {
      "text/plain": [
       "126"
      ]
     },
     "execution_count": 3,
     "metadata": {},
     "output_type": "execute_result"
    }
   ],
   "source": [
    "i = 11283 // 89\n",
    "i"
   ]
  },
  {
   "cell_type": "markdown",
   "metadata": {
    "id": "5fnIPumiT_rt"
   },
   "source": [
    "4. Запишіть у змінну `name` ваше імʼя."
   ]
  },
  {
   "cell_type": "code",
   "execution_count": 4,
   "metadata": {
    "execution": {
     "iopub.execute_input": "2025-10-20T16:55:58.273548Z",
     "iopub.status.busy": "2025-10-20T16:55:58.272266Z",
     "iopub.status.idle": "2025-10-20T16:55:58.279316Z",
     "shell.execute_reply": "2025-10-20T16:55:58.277827Z",
     "shell.execute_reply.started": "2025-10-20T16:55:58.273505Z"
    },
    "id": "xP7Mbq45UFlV"
   },
   "outputs": [],
   "source": [
    "name = \"Tania\""
   ]
  },
  {
   "cell_type": "markdown",
   "metadata": {
    "id": "fR9TqY79UNDL"
   },
   "source": [
    "5. Запишіть у змінну `surname` ваше прізвище."
   ]
  },
  {
   "cell_type": "code",
   "execution_count": 5,
   "metadata": {
    "execution": {
     "iopub.execute_input": "2025-10-20T16:56:09.793907Z",
     "iopub.status.busy": "2025-10-20T16:56:09.792943Z",
     "iopub.status.idle": "2025-10-20T16:56:09.799689Z",
     "shell.execute_reply": "2025-10-20T16:56:09.798655Z",
     "shell.execute_reply.started": "2025-10-20T16:56:09.793859Z"
    },
    "id": "0qHjyMyvUOM1"
   },
   "outputs": [],
   "source": [
    "surname = \"Horbachova\""
   ]
  },
  {
   "cell_type": "markdown",
   "metadata": {
    "id": "zqKncQLwUOxh"
   },
   "source": [
    "6. Сконкатенуйте імʼя та прізвище в одну фразу через пробіл. Запишіть результат у нову змінну `name_surname` та виведіть результат на екран.  "
   ]
  },
  {
   "cell_type": "code",
   "execution_count": 6,
   "metadata": {
    "execution": {
     "iopub.execute_input": "2025-10-20T16:57:01.442340Z",
     "iopub.status.busy": "2025-10-20T16:57:01.441831Z",
     "iopub.status.idle": "2025-10-20T16:57:01.451097Z",
     "shell.execute_reply": "2025-10-20T16:57:01.449502Z",
     "shell.execute_reply.started": "2025-10-20T16:57:01.442310Z"
    },
    "id": "8E-blvN-UTPg"
   },
   "outputs": [
    {
     "data": {
      "text/plain": [
       "'Tania Horbachova'"
      ]
     },
     "execution_count": 6,
     "metadata": {},
     "output_type": "execute_result"
    }
   ],
   "source": [
    "name_surname = name + \" \" + surname\n",
    "name_surname"
   ]
  },
  {
   "cell_type": "markdown",
   "metadata": {
    "id": "_Unl7EXlUgYn"
   },
   "source": [
    "Очікувана відповідь (тільки з вашими даними): 'Hanna Pylieva'"
   ]
  },
  {
   "cell_type": "markdown",
   "metadata": {
    "id": "z-3FI0IrUT0U"
   },
   "source": [
    "7. Зробіть усі літери змінної `name_surname` заглавними використовуючи метод рядків в Python:"
   ]
  },
  {
   "cell_type": "code",
   "execution_count": 8,
   "metadata": {
    "execution": {
     "iopub.execute_input": "2025-10-20T17:00:23.174663Z",
     "iopub.status.busy": "2025-10-20T17:00:23.174147Z",
     "iopub.status.idle": "2025-10-20T17:00:23.183222Z",
     "shell.execute_reply": "2025-10-20T17:00:23.181646Z",
     "shell.execute_reply.started": "2025-10-20T17:00:23.174627Z"
    },
    "id": "9ahIwyT5UblY"
   },
   "outputs": [
    {
     "data": {
      "text/plain": [
       "'TANIA HORBACHOVA'"
      ]
     },
     "execution_count": 8,
     "metadata": {},
     "output_type": "execute_result"
    }
   ],
   "source": [
    "name_surname.upper()"
   ]
  },
  {
   "cell_type": "markdown",
   "metadata": {
    "id": "6PDcqfmdUcLo"
   },
   "source": [
    "Очікувана відповідь (тільки з вашими даними): 'HANNA PYLIEVA'"
   ]
  },
  {
   "cell_type": "markdown",
   "metadata": {
    "id": "qNl8KxeXUtnL"
   },
   "source": [
    "8. Виведіть третю літеру вашого `name_surname`. Тут уважно, треба саме третя літера. Згадайте, з якого значення починається індексування значень в Python."
   ]
  },
  {
   "cell_type": "code",
   "execution_count": 9,
   "metadata": {
    "execution": {
     "iopub.execute_input": "2025-10-20T17:03:17.365780Z",
     "iopub.status.busy": "2025-10-20T17:03:17.365146Z",
     "iopub.status.idle": "2025-10-20T17:03:17.374714Z",
     "shell.execute_reply": "2025-10-20T17:03:17.373012Z",
     "shell.execute_reply.started": "2025-10-20T17:03:17.365739Z"
    },
    "id": "Tp7stqAhUvJz"
   },
   "outputs": [
    {
     "data": {
      "text/plain": [
       "'n'"
      ]
     },
     "execution_count": 9,
     "metadata": {},
     "output_type": "execute_result"
    }
   ],
   "source": [
    "name_surname[2]"
   ]
  },
  {
   "cell_type": "markdown",
   "metadata": {
    "id": "GYWHqb3UUvqk"
   },
   "source": [
    "Очікувана відповідь (тільки з вашими даними): 'n'"
   ]
  },
  {
   "cell_type": "markdown",
   "metadata": {
    "id": "1f3cc1a7",
    "pycharm": {
     "name": "#%% md\n"
    }
   },
   "source": [
    "9. Виведіть першу та останню літеру вашого прізвища."
   ]
  },
  {
   "cell_type": "code",
   "execution_count": 10,
   "metadata": {
    "execution": {
     "iopub.execute_input": "2025-10-20T17:05:14.363916Z",
     "iopub.status.busy": "2025-10-20T17:05:14.363453Z",
     "iopub.status.idle": "2025-10-20T17:05:14.371248Z",
     "shell.execute_reply": "2025-10-20T17:05:14.369775Z",
     "shell.execute_reply.started": "2025-10-20T17:05:14.363883Z"
    },
    "id": "s1ZgN3xuUyB8"
   },
   "outputs": [
    {
     "data": {
      "text/plain": [
       "('H', 'a')"
      ]
     },
     "execution_count": 10,
     "metadata": {},
     "output_type": "execute_result"
    }
   ],
   "source": [
    "name_surname[6], name_surname[15]"
   ]
  },
  {
   "cell_type": "code",
   "execution_count": 12,
   "metadata": {
    "execution": {
     "iopub.execute_input": "2025-10-20T17:09:08.770397Z",
     "iopub.status.busy": "2025-10-20T17:09:08.769902Z",
     "iopub.status.idle": "2025-10-20T17:09:08.777820Z",
     "shell.execute_reply": "2025-10-20T17:09:08.776439Z",
     "shell.execute_reply.started": "2025-10-20T17:09:08.770358Z"
    }
   },
   "outputs": [
    {
     "data": {
      "text/plain": [
       "('H', 'a')"
      ]
     },
     "execution_count": 12,
     "metadata": {},
     "output_type": "execute_result"
    }
   ],
   "source": [
    "surname[0], surname[9]"
   ]
  },
  {
   "cell_type": "markdown",
   "metadata": {
    "id": "KjlFjjhHVAt2"
   },
   "source": [
    "Очікувана відповідь (тільки з вашими даними): ('P', 'a')"
   ]
  },
  {
   "cell_type": "markdown",
   "metadata": {
    "execution": {
     "iopub.execute_input": "2025-10-20T17:07:34.807913Z",
     "iopub.status.busy": "2025-10-20T17:07:34.806715Z",
     "iopub.status.idle": "2025-10-20T17:07:34.817479Z",
     "shell.execute_reply": "2025-10-20T17:07:34.815541Z",
     "shell.execute_reply.started": "2025-10-20T17:07:34.807869Z"
    }
   },
   "source": [
    "10. Виведіть довжину вашого прізвища."
   ]
  },
  {
   "cell_type": "code",
   "execution_count": 13,
   "metadata": {
    "execution": {
     "iopub.execute_input": "2025-10-20T17:10:33.684219Z",
     "iopub.status.busy": "2025-10-20T17:10:33.683930Z",
     "iopub.status.idle": "2025-10-20T17:10:33.691893Z",
     "shell.execute_reply": "2025-10-20T17:10:33.690404Z",
     "shell.execute_reply.started": "2025-10-20T17:10:33.684200Z"
    },
    "id": "0TPJBh0LVA8q"
   },
   "outputs": [
    {
     "data": {
      "text/plain": [
       "10"
      ]
     },
     "execution_count": 13,
     "metadata": {},
     "output_type": "execute_result"
    }
   ],
   "source": [
    "len(surname)"
   ]
  },
  {
   "cell_type": "markdown",
   "metadata": {
    "id": "9FaxqvVgVRYW"
   },
   "source": [
    "Очікувана відповідь (тільки з вашими даними): 7\n"
   ]
  },
  {
   "cell_type": "markdown",
   "metadata": {
    "id": "JN2wxSlGVVAj"
   },
   "source": [
    "11. Виведіть кількість літер `a` у столиці Мадагаскару `Antananarivo`. Важливо врахувати всі літери, як великі, так і маленькі."
   ]
  },
  {
   "cell_type": "code",
   "execution_count": 15,
   "metadata": {
    "execution": {
     "iopub.execute_input": "2025-10-20T17:19:40.740932Z",
     "iopub.status.busy": "2025-10-20T17:19:40.739907Z",
     "iopub.status.idle": "2025-10-20T17:19:40.750094Z",
     "shell.execute_reply": "2025-10-20T17:19:40.748566Z",
     "shell.execute_reply.started": "2025-10-20T17:19:40.740898Z"
    },
    "id": "LCeHHz9bVUgL"
   },
   "outputs": [
    {
     "data": {
      "text/plain": [
       "4"
      ]
     },
     "execution_count": 15,
     "metadata": {},
     "output_type": "execute_result"
    }
   ],
   "source": [
    "capital = \"Antananarivo\"\n",
    "a_nmb = capital.lower().count(\"a\")\n",
    "a_nmb"
   ]
  },
  {
   "cell_type": "markdown",
   "metadata": {
    "id": "Ux4SQiuSVo92"
   },
   "source": [
    "Очікувана відповідь: 4"
   ]
  },
  {
   "cell_type": "markdown",
   "metadata": {
    "id": "mwEs0xnmVtes"
   },
   "source": [
    "12. Створіть рядок `my_string` зі значенням: \"The quick brown fox jumps over the lazy dog!!!\".   \n",
    "Перевірте, чи починається рядок `my_string` з \"The\" і чи закінчується він \"dog!\". Виведіть результати на екран."
   ]
  },
  {
   "cell_type": "code",
   "execution_count": 16,
   "metadata": {
    "execution": {
     "iopub.execute_input": "2025-10-20T17:21:01.905758Z",
     "iopub.status.busy": "2025-10-20T17:21:01.904986Z",
     "iopub.status.idle": "2025-10-20T17:21:01.910229Z",
     "shell.execute_reply": "2025-10-20T17:21:01.908869Z",
     "shell.execute_reply.started": "2025-10-20T17:21:01.905729Z"
    },
    "id": "VlXDNpXcVs59"
   },
   "outputs": [],
   "source": [
    "my_string = \"The quick brown fox jumps over the lazy dog!!!\""
   ]
  },
  {
   "cell_type": "code",
   "execution_count": 17,
   "metadata": {
    "execution": {
     "iopub.execute_input": "2025-10-20T17:23:34.107818Z",
     "iopub.status.busy": "2025-10-20T17:23:34.107277Z",
     "iopub.status.idle": "2025-10-20T17:23:34.114573Z",
     "shell.execute_reply": "2025-10-20T17:23:34.113043Z",
     "shell.execute_reply.started": "2025-10-20T17:23:34.107781Z"
    }
   },
   "outputs": [
    {
     "name": "stdout",
     "output_type": "stream",
     "text": [
      "True\n",
      "False\n"
     ]
    }
   ],
   "source": [
    "print(my_string.startswith(\"The\"))\n",
    "print(my_string.endswith(\"dog!\"))"
   ]
  },
  {
   "cell_type": "markdown",
   "metadata": {
    "id": "Yc-UwtqvV_h0"
   },
   "source": [
    "13. Розділіть рядок `my_string` на список окремих слів, а потім з'єднайте всі слова через нижнє підкреслювання. Виведіть результат на екран."
   ]
  },
  {
   "cell_type": "code",
   "execution_count": 20,
   "metadata": {
    "execution": {
     "iopub.execute_input": "2025-10-20T17:25:58.335785Z",
     "iopub.status.busy": "2025-10-20T17:25:58.335262Z",
     "iopub.status.idle": "2025-10-20T17:25:58.342293Z",
     "shell.execute_reply": "2025-10-20T17:25:58.341341Z",
     "shell.execute_reply.started": "2025-10-20T17:25:58.335748Z"
    },
    "id": "m5I48Ii-WDSK"
   },
   "outputs": [
    {
     "name": "stdout",
     "output_type": "stream",
     "text": [
      "['The', 'quick', 'brown', 'fox', 'jumps', 'over', 'the', 'lazy', 'dog!!!']\n"
     ]
    }
   ],
   "source": [
    "print(my_string.split())"
   ]
  },
  {
   "cell_type": "code",
   "execution_count": 22,
   "metadata": {
    "execution": {
     "iopub.execute_input": "2025-10-20T17:28:01.100485Z",
     "iopub.status.busy": "2025-10-20T17:28:01.100052Z",
     "iopub.status.idle": "2025-10-20T17:28:01.108248Z",
     "shell.execute_reply": "2025-10-20T17:28:01.107009Z",
     "shell.execute_reply.started": "2025-10-20T17:28:01.100441Z"
    }
   },
   "outputs": [
    {
     "name": "stdout",
     "output_type": "stream",
     "text": [
      "The_quick_brown_fox_jumps_over_the_lazy_dog!!!\n"
     ]
    }
   ],
   "source": [
    "print(\"_\".join(['The', 'quick', 'brown', 'fox', 'jumps', 'over', 'the', 'lazy', 'dog!!!']))"
   ]
  },
  {
   "cell_type": "markdown",
   "metadata": {
    "id": "UqvD1_jIXRhx"
   },
   "source": [
    "Очікуваний результат: `The_quick_brown_fox_jumps_over_the_lazy_dog!!!`"
   ]
  }
 ],
 "metadata": {
  "colab": {
   "provenance": []
  },
  "kernelspec": {
   "display_name": "Python [conda env:base] *",
   "language": "python",
   "name": "conda-base-py"
  },
  "language_info": {
   "codemirror_mode": {
    "name": "ipython",
    "version": 3
   },
   "file_extension": ".py",
   "mimetype": "text/x-python",
   "name": "python",
   "nbconvert_exporter": "python",
   "pygments_lexer": "ipython3",
   "version": "3.13.5"
  }
 },
 "nbformat": 4,
 "nbformat_minor": 4
}
